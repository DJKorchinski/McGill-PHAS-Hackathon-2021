{
 "cells": [
  {
   "cell_type": "code",
   "execution_count": 74,
   "metadata": {},
   "outputs": [],
   "source": [
    "import numpy as np\n",
    "import matplotlib.pyplot as plt\n"
   ]
  },
  {
   "cell_type": "code",
   "execution_count": 75,
   "metadata": {},
   "outputs": [],
   "source": [
    "def splitData(data):\n",
    "    lam2=np.unique(data[:,0])\n",
    "    Lval=np.unique(data[:,2])\n",
    "    lam3=[]\n",
    "    B=[]\n",
    "    name=[]\n",
    "    for i in range(len(lam2)):\n",
    "        for j in range(len(Lval)):\n",
    "            print(lam2[i])\n",
    "            print(Lval[j])\n",
    "            ind=(data[:,0]==lam2[i])*(data[:,2]==Lval[j])\n",
    "            lam3.append(data[ind,1])\n",
    "            B.append(data[ind,3])\n",
    "            name.append(r'\\lambda_2='+str(lam2[i])[0:4]+r', L='+str(Lval[j])[0:4])\n",
    "            print(r'\\lambda_2='+str(lam2[i])[0:4]+r', L='+str(Lval[j])[0:4])\n",
    "    lam3=np.asarray(lam3).T\n",
    "    B=np.asarray(B).T\n",
    "    return lam3, B,name"
   ]
  },
  {
   "cell_type": "code",
   "execution_count": 76,
   "metadata": {},
   "outputs": [],
   "source": [
    "##read in B values and lambda 3 \n",
    "filename='../McGill-PHAS-Hackathon-2021/data/grid_search_binders.npy'"
   ]
  },
  {
   "cell_type": "code",
   "execution_count": 77,
   "metadata": {},
   "outputs": [],
   "source": [
    "data=np.load(filename) #lambda2,lambda3,L,B"
   ]
  },
  {
   "cell_type": "code",
   "execution_count": null,
   "metadata": {},
   "outputs": [],
   "source": []
  },
  {
   "cell_type": "code",
   "execution_count": 78,
   "metadata": {},
   "outputs": [
    {
     "data": {
      "text/plain": [
       "Text(0.5, 0, '$\\\\lambda_3$')"
      ]
     },
     "execution_count": 78,
     "metadata": {},
     "output_type": "execute_result"
    },
    {
     "data": {
      "image/png": "[encoded data removed]",
      "text/plain": [
       "<Figure size 432x288 with 1 Axes>"
      ]
     },
     "metadata": {
      "needs_background": "light"
     },
     "output_type": "display_data"
    }
   ],
   "source": [
    "for i in range(len(lam3.T)):\n",
    "    plt.loglog(lam3.T[i],B.T[i],label=name[i])\n",
    "#plt.legend()\n",
    "plt.ylabel('B')\n",
    "plt.xlabel(r'$\\lambda_3$')"
   ]
  },
  {
   "cell_type": "code",
   "execution_count": 34,
   "metadata": {},
   "outputs": [],
   "source": []
  },
  {
   "cell_type": "code",
   "execution_count": 39,
   "metadata": {},
   "outputs": [
    {
     "data": {
      "text/plain": [
       "array([0.00113351, 0.00113351, 0.00113351])"
      ]
     },
     "execution_count": 39,
     "metadata": {},
     "output_type": "execute_result"
    }
   ],
   "source": []
  },
  {
   "cell_type": "code",
   "execution_count": null,
   "metadata": {},
   "outputs": [],
   "source": []
  }
 ],
 "metadata": {
  "kernelspec": {
   "display_name": "Python 3",
   "language": "python",
   "name": "python3"
  },
  "language_info": {
   "codemirror_mode": {
    "name": "ipython",
    "version": 3
   },
   "file_extension": ".py",
   "mimetype": "text/x-python",
   "name": "python",
   "nbconvert_exporter": "python",
   "pygments_lexer": "ipython3",
   "version": "3.8.5"
  }
 },
 "nbformat": 4,
 "nbformat_minor": 4
}
